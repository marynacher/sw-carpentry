{
 "cells": [
  {
   "cell_type": "code",
   "execution_count": 52,
   "metadata": {
    "collapsed": false
   },
   "outputs": [
    {
     "name": "stdout",
     "output_type": "stream",
     "text": [
      "What year were you born? 1999\n",
      "Your Chinese Zodiac animal is Rabbit\n",
      "\n"
     ]
    }
   ],
   "source": [
    "# Here we are going to plan the program\n",
    "\n",
    "# Open the zodiac descriptions file\n",
    "zodiacText = open('zodiacDescriptions.txt', 'r')\n",
    "# for line in ZodiacText:\n",
    "# print(line)\n",
    "# Read the file. We are going to make a list with each line of the file as a list item.\n",
    "zodiacList = []\n",
    "for animal in zodiacText:\n",
    "    zodiacList.append(animal)  \n",
    "\n",
    "# Close the file as soon as we are done with it.\n",
    "zodiacText.close()\n",
    "\n",
    "#print(ZodiacList)\n",
    "# Ask the user for input\n",
    "# We're just going to assign the variable for moment. Come back later.\n",
    "try:\n",
    "    birthYear = int(input(\"What year were you born? \"))\n",
    "    zodiacIndex = (birthYear - 4) % 12\n",
    "    # Tell user the result\n",
    "    print(\"Your Chinese Zodiac animal is\", zodiacList[zodiacIndex])\n",
    "\n",
    "except ValueError:\n",
    "    print(\"You did not provide a year in the form of an integer.\")\n",
    "\n",
    "# birthYear = int(birthYear)\n",
    "# birthYear = 1985\n",
    "# Do some fancy figuring stuff out (little bit of math)\n",
    "# To fix this we need to offset birthYear by 4\n",
    "# print(zodiacIndex)\n",
    "# Repeat"
   ]
  },
  {
   "cell_type": "raw",
   "metadata": {},
   "source": []
  },
  {
   "cell_type": "code",
   "execution_count": null,
   "metadata": {
    "collapsed": true
   },
   "outputs": [],
   "source": []
  }
 ],
 "metadata": {
  "kernelspec": {
   "display_name": "Python 3",
   "language": "python",
   "name": "python3"
  },
  "language_info": {
   "codemirror_mode": {
    "name": "ipython",
    "version": 3
   },
   "file_extension": ".py",
   "mimetype": "text/x-python",
   "name": "python",
   "nbconvert_exporter": "python",
   "pygments_lexer": "ipython3",
   "version": "3.4.3"
  }
 },
 "nbformat": 4,
 "nbformat_minor": 0
}
